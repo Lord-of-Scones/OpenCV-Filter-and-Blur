{
 "cells": [
  {
   "cell_type": "markdown",
   "metadata": {},
   "source": [
    "# Prerequisites - Installing Packages\n",
    "\n",
    "Assumption is that \"pip\" and \"python\" are already installed in your system and environment variables are set up<br>\n",
    "To check the installation, use following commands in your command prompt\n",
    "\n",
    "### python --version\n",
    "###  pip --version"
   ]
  },
  {
   "cell_type": "markdown",
   "metadata": {},
   "source": [
    "Run the following commands in your command prompt to install openCV package in your system\n",
    "\n",
    "### pip install opencv-python\n",
    "### pip install numpy\n",
    "### pip install matplotlib"
   ]
  },
  {
   "cell_type": "markdown",
   "metadata": {},
   "source": [
    "##### If you are using jupyter notebook and want to install packages via jupyter notebook itself, uncomment following lines"
   ]
  },
  {
   "cell_type": "code",
   "execution_count": 1,
   "metadata": {},
   "outputs": [],
   "source": [
    "# !pip install opencv-python\n",
    "# !pip install numpy\n",
    "# !pip install matplotlib"
   ]
  },
  {
   "cell_type": "markdown",
   "metadata": {},
   "source": [
    "# Opening an Image using OpenCV\n",
    "\n",
    "- The Image which is to be used here for illustration should be in the same directory as your python file.\n",
    "- If image is placed in different directory, then replace the file name given in \"imread\" function by the absolute path of image\n"
   ]
  },
  {
   "cell_type": "markdown",
   "metadata": {},
   "source": [
    "# Importing OpenCV Package"
   ]
  },
  {
   "cell_type": "code",
   "execution_count": 2,
   "metadata": {},
   "outputs": [],
   "source": [
    "import cv2"
   ]
  },
  {
   "cell_type": "markdown",
   "metadata": {},
   "source": [
    "# Reading and Displaying Color Image"
   ]
  },
  {
   "cell_type": "code",
   "execution_count": 3,
   "metadata": {},
   "outputs": [],
   "source": [
    "# Reading image file as color image\n",
    "color_img = cv2.imread(\"sample_scenary.jpg\", cv2.IMREAD_COLOR)\n",
    "\n",
    "# Display the image\n",
    "cv2.imshow('color_image', color_img)\n",
    "\n",
    "# Will display the window infinitely until any keypress (it is suitable for image display).\n",
    "cv2.waitKey(0)\n",
    "\n",
    "# Destroy the current Window\n",
    "cv2.destroyAllWindows()"
   ]
  },
  {
   "cell_type": "markdown",
   "metadata": {},
   "source": [
    "# Reading and Displaying Grayscale Image"
   ]
  },
  {
   "cell_type": "code",
   "execution_count": 4,
   "metadata": {},
   "outputs": [],
   "source": [
    "# Reading image file as grayscale image\n",
    "gray_img = cv2.imread(\"sample_scenary.jpg\", cv2.IMREAD_GRAYSCALE)\n",
    "\n",
    "# Display the image\n",
    "cv2.imshow('grayscale_image', gray_img)\n",
    "\n",
    "# will display the window infinitely until any keypress (it is suitable for image display).\n",
    "cv2.waitKey(0)\n",
    "\n",
    "# Destroy the current Window\n",
    "cv2.destroyAllWindows()"
   ]
  },
  {
   "cell_type": "code",
   "execution_count": null,
   "metadata": {},
   "outputs": [],
   "source": []
  }
 ],
 "metadata": {
  "kernelspec": {
   "display_name": "Python 3",
   "language": "python",
   "name": "python3"
  },
  "language_info": {
   "codemirror_mode": {
    "name": "ipython",
    "version": 3
   },
   "file_extension": ".py",
   "mimetype": "text/x-python",
   "name": "python",
   "nbconvert_exporter": "python",
   "pygments_lexer": "ipython3",
   "version": "3.6.5"
  }
 },
 "nbformat": 4,
 "nbformat_minor": 2
}
